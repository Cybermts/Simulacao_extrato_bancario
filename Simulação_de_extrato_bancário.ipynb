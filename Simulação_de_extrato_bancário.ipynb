{
  "nbformat": 4,
  "nbformat_minor": 0,
  "metadata": {
    "colab": {
      "provenance": [],
      "authorship_tag": "ABX9TyN/RzOB49cOsceEn/WA5JJ1"
    },
    "kernelspec": {
      "name": "python3",
      "display_name": "Python 3"
    },
    "language_info": {
      "name": "python"
    }
  },
  "cells": [
    {
      "cell_type": "markdown",
      "source": [
        "##Movimentação de um extrato bancário.\n",
        "\n",
        "A ideia do projeto é fazer uma simulação de como funciona um extrato bancário.\n",
        "Nesse caso, o aplicativo do seu banco registra toda a sua movimentação financeira. No final do dia, o app\n",
        "consolida o saldo final para que você possa controlar sua vida financeira.\n"
      ],
      "metadata": {
        "id": "wvcYf0lbT2Xg"
      }
    },
    {
      "cell_type": "code",
      "source": [
        "Saldo_inicial_dia_1 = 1000\n",
        "\n",
        "\n",
        "#Recebimento de salário via pix\n",
        "dia_1_transacao_1 = 2800.0\n",
        "\n",
        "#Gasto com pagamento de conta de energia\n",
        "dia_1_transacao_2 = - 389.45\n",
        "\n",
        "#Gasto com pagamento de conta água\n",
        "dia_1_transacao_3 = - 290.75\n",
        "\n",
        "#Recebimento de dinheiro via pix\n",
        "dia_1_transacao_4 = 38.10\n",
        "\n",
        "#Pagamento de fatura de cartão de crédito\n",
        "dia_1_transacao_5 = -1.750\n",
        "\n",
        "##No final, fazemos a soma das etradas e saídas...\n",
        "\n",
        "Saldo_final_dia_1 = Saldo_inicial_dia_1 + dia_1_transacao_1 + dia_1_transacao_2 + dia_1_transacao_3 + dia_1_transacao_4 + dia_1_transacao_5\n",
        "\n",
        "print(Saldo_final_dia_1)\n",
        "\n"
      ],
      "metadata": {
        "colab": {
          "base_uri": "https://localhost:8080/"
        },
        "id": "27G3LYLLUK3f",
        "outputId": "bc5b5907-5302-4433-befe-1a94a4fbbe48"
      },
      "execution_count": 13,
      "outputs": [
        {
          "output_type": "stream",
          "name": "stdout",
          "text": [
            "3156.15\n"
          ]
        }
      ]
    }
  ]
}